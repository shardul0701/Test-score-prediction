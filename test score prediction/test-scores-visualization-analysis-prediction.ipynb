{
 "cells": [
  {
   "cell_type": "markdown",
   "id": "great-blake",
   "metadata": {
    "papermill": {
     "duration": 0.030257,
     "end_time": "2021-06-17T04:55:46.374709",
     "exception": false,
     "start_time": "2021-06-17T04:55:46.344452",
     "status": "completed"
    },
    "tags": []
   },
   "source": [
    "<center><img src=\"https://ivybound.net/wp-content/uploads/2016/11/score-300x300.jpg\",height='500',width='500'></center>"
   ]
  },
  {
   "cell_type": "markdown",
   "id": "stopped-professor",
   "metadata": {
    "papermill": {
     "duration": 0.028484,
     "end_time": "2021-06-17T04:55:46.432476",
     "exception": false,
     "start_time": "2021-06-17T04:55:46.403992",
     "status": "completed"
    },
    "tags": []
   },
   "source": [
    "<h1 style=\"background-color:MediumSeaGreen;font-family:newtimeroman;font-size:500%;text-align:center;border-radius: 15px 50px;padding: 5px 5px 5px 5px\">\n",
    "    <b>Dataset Overview</b></h1>"
   ]
  },
  {
   "cell_type": "markdown",
   "id": "possible-ecuador",
   "metadata": {
    "papermill": {
     "duration": 0.028482,
     "end_time": "2021-06-17T04:55:46.489903",
     "exception": false,
     "start_time": "2021-06-17T04:55:46.461421",
     "status": "completed"
    },
    "tags": []
   },
   "source": [
    "* School : Name of the school the student is enrolled in.\n",
    "* School setting : The location of the school.\n",
    "* School type : The type of school. Either public or non-public.\n",
    "* Classroom : The type of classroom.\n",
    "* Teaching method : Teaching methods: Either experimental or Standard.\n",
    "* n_student : Number of students in the class.\n",
    "* Student_id : A unique ID for each student.\n",
    "* Gender : The gender of the students: male or female.\n",
    "* Lunch : Whether a student qualifies for free/subsidized lunch or not.\n",
    "* Pretest : The pretest score of the students out of 100.\n",
    "\n",
    "\n"
   ]
  },
  {
   "cell_type": "markdown",
   "id": "indonesian-cricket",
   "metadata": {
    "papermill": {
     "duration": 0.034137,
     "end_time": "2021-06-17T04:55:46.557055",
     "exception": false,
     "start_time": "2021-06-17T04:55:46.522918",
     "status": "completed"
    },
    "tags": []
   },
   "source": [
    "<h1 style=\"background-color:MediumSeaGreen;font-family:newtimeroman;font-size:500%;text-align:center;border-radius: 15px 50px;padding: 5px 5px 5px 5px\">\n",
    "    <b>Importing libraries and loading Dataset</b></h1>"
   ]
  },
  {
   "cell_type": "code",
   "execution_count": 1,
   "id": "headed-prevention",
   "metadata": {
    "execution": {
     "iopub.execute_input": "2021-06-17T04:55:46.643503Z",
     "iopub.status.busy": "2021-06-17T04:55:46.642834Z",
     "iopub.status.idle": "2021-06-17T04:55:47.816742Z",
     "shell.execute_reply": "2021-06-17T04:55:47.815879Z",
     "shell.execute_reply.started": "2021-06-17T04:49:09.385536Z"
    },
    "papermill": {
     "duration": 1.221108,
     "end_time": "2021-06-17T04:55:47.816971",
     "exception": false,
     "start_time": "2021-06-17T04:55:46.595863",
     "status": "completed"
    },
    "tags": []
   },
   "outputs": [],
   "source": [
    "import pandas as pd\n",
    "import numpy as np\n",
    "import random\n",
    "import seaborn as sns\n",
    "from sklearn.metrics import r2_score\n",
    "from matplotlib import pyplot as plt\n",
    "from sklearn.preprocessing import LabelEncoder\n",
    "from sklearn.preprocessing import MinMaxScaler\n",
    "from sklearn.model_selection import train_test_split\n",
    "from sklearn.metrics import mean_absolute_error\n",
    "from sklearn.metrics import mean_squared_error\n",
    "from sklearn.linear_model import LinearRegression\n",
    "from sklearn.preprocessing import PolynomialFeatures"
   ]
  },
  {
   "cell_type": "code",
   "execution_count": 2,
   "id": "heard-leave",
   "metadata": {
    "execution": {
     "iopub.execute_input": "2021-06-17T04:55:47.881328Z",
     "iopub.status.busy": "2021-06-17T04:55:47.880608Z",
     "iopub.status.idle": "2021-06-17T04:55:47.937950Z",
     "shell.execute_reply": "2021-06-17T04:55:47.937349Z",
     "shell.execute_reply.started": "2021-06-17T04:49:09.405756Z"
    },
    "papermill": {
     "duration": 0.091761,
     "end_time": "2021-06-17T04:55:47.938126",
     "exception": false,
     "start_time": "2021-06-17T04:55:47.846365",
     "status": "completed"
    },
    "tags": []
   },
   "outputs": [
    {
     "data": {
      "text/html": [
       "<div>\n",
       "<style scoped>\n",
       "    .dataframe tbody tr th:only-of-type {\n",
       "        vertical-align: middle;\n",
       "    }\n",
       "\n",
       "    .dataframe tbody tr th {\n",
       "        vertical-align: top;\n",
       "    }\n",
       "\n",
       "    .dataframe thead th {\n",
       "        text-align: right;\n",
       "    }\n",
       "</style>\n",
       "<table border=\"1\" class=\"dataframe\">\n",
       "  <thead>\n",
       "    <tr style=\"text-align: right;\">\n",
       "      <th></th>\n",
       "      <th>school</th>\n",
       "      <th>school_setting</th>\n",
       "      <th>school_type</th>\n",
       "      <th>classroom</th>\n",
       "      <th>teaching_method</th>\n",
       "      <th>n_student</th>\n",
       "      <th>student_id</th>\n",
       "      <th>gender</th>\n",
       "      <th>lunch</th>\n",
       "      <th>pretest</th>\n",
       "      <th>posttest</th>\n",
       "    </tr>\n",
       "  </thead>\n",
       "  <tbody>\n",
       "    <tr>\n",
       "      <th>0</th>\n",
       "      <td>ANKYI</td>\n",
       "      <td>Urban</td>\n",
       "      <td>Non-public</td>\n",
       "      <td>6OL</td>\n",
       "      <td>Standard</td>\n",
       "      <td>20.0</td>\n",
       "      <td>2FHT3</td>\n",
       "      <td>Female</td>\n",
       "      <td>Does not qualify</td>\n",
       "      <td>62.0</td>\n",
       "      <td>72.0</td>\n",
       "    </tr>\n",
       "    <tr>\n",
       "      <th>1</th>\n",
       "      <td>ANKYI</td>\n",
       "      <td>Urban</td>\n",
       "      <td>Non-public</td>\n",
       "      <td>6OL</td>\n",
       "      <td>Standard</td>\n",
       "      <td>20.0</td>\n",
       "      <td>3JIVH</td>\n",
       "      <td>Female</td>\n",
       "      <td>Does not qualify</td>\n",
       "      <td>66.0</td>\n",
       "      <td>79.0</td>\n",
       "    </tr>\n",
       "    <tr>\n",
       "      <th>2</th>\n",
       "      <td>ANKYI</td>\n",
       "      <td>Urban</td>\n",
       "      <td>Non-public</td>\n",
       "      <td>6OL</td>\n",
       "      <td>Standard</td>\n",
       "      <td>20.0</td>\n",
       "      <td>3XOWE</td>\n",
       "      <td>Male</td>\n",
       "      <td>Does not qualify</td>\n",
       "      <td>64.0</td>\n",
       "      <td>76.0</td>\n",
       "    </tr>\n",
       "    <tr>\n",
       "      <th>3</th>\n",
       "      <td>ANKYI</td>\n",
       "      <td>Urban</td>\n",
       "      <td>Non-public</td>\n",
       "      <td>6OL</td>\n",
       "      <td>Standard</td>\n",
       "      <td>20.0</td>\n",
       "      <td>556O0</td>\n",
       "      <td>Female</td>\n",
       "      <td>Does not qualify</td>\n",
       "      <td>61.0</td>\n",
       "      <td>77.0</td>\n",
       "    </tr>\n",
       "    <tr>\n",
       "      <th>4</th>\n",
       "      <td>ANKYI</td>\n",
       "      <td>Urban</td>\n",
       "      <td>Non-public</td>\n",
       "      <td>6OL</td>\n",
       "      <td>Standard</td>\n",
       "      <td>20.0</td>\n",
       "      <td>74LOE</td>\n",
       "      <td>Male</td>\n",
       "      <td>Does not qualify</td>\n",
       "      <td>64.0</td>\n",
       "      <td>76.0</td>\n",
       "    </tr>\n",
       "  </tbody>\n",
       "</table>\n",
       "</div>"
      ],
      "text/plain": [
       "  school school_setting school_type classroom teaching_method  n_student  \\\n",
       "0  ANKYI          Urban  Non-public       6OL        Standard       20.0   \n",
       "1  ANKYI          Urban  Non-public       6OL        Standard       20.0   \n",
       "2  ANKYI          Urban  Non-public       6OL        Standard       20.0   \n",
       "3  ANKYI          Urban  Non-public       6OL        Standard       20.0   \n",
       "4  ANKYI          Urban  Non-public       6OL        Standard       20.0   \n",
       "\n",
       "  student_id  gender             lunch  pretest  posttest  \n",
       "0      2FHT3  Female  Does not qualify     62.0      72.0  \n",
       "1      3JIVH  Female  Does not qualify     66.0      79.0  \n",
       "2      3XOWE    Male  Does not qualify     64.0      76.0  \n",
       "3      556O0  Female  Does not qualify     61.0      77.0  \n",
       "4      74LOE    Male  Does not qualify     64.0      76.0  "
      ]
     },
     "execution_count": 2,
     "metadata": {},
     "output_type": "execute_result"
    }
   ],
   "source": [
    "data=pd.read_csv(\"../input/predict-test-scores-of-students/test_scores.csv\")\n",
    "data.head(5)"
   ]
  },
  {
   "cell_type": "code",
   "execution_count": 3,
   "id": "provincial-evidence",
   "metadata": {
    "execution": {
     "iopub.execute_input": "2021-06-17T04:55:48.011138Z",
     "iopub.status.busy": "2021-06-17T04:55:48.009953Z",
     "iopub.status.idle": "2021-06-17T04:55:48.012753Z",
     "shell.execute_reply": "2021-06-17T04:55:48.013229Z",
     "shell.execute_reply.started": "2021-06-17T04:49:09.438717Z"
    },
    "papermill": {
     "duration": 0.042973,
     "end_time": "2021-06-17T04:55:48.013436",
     "exception": false,
     "start_time": "2021-06-17T04:55:47.970463",
     "status": "completed"
    },
    "tags": []
   },
   "outputs": [],
   "source": [
    "#drop the student_id Column\n",
    "data.drop(['student_id'],axis=1,inplace=True)"
   ]
  },
  {
   "cell_type": "code",
   "execution_count": 4,
   "id": "standing-cooler",
   "metadata": {
    "execution": {
     "iopub.execute_input": "2021-06-17T04:55:48.084703Z",
     "iopub.status.busy": "2021-06-17T04:55:48.083994Z",
     "iopub.status.idle": "2021-06-17T04:55:48.087051Z",
     "shell.execute_reply": "2021-06-17T04:55:48.087568Z",
     "shell.execute_reply.started": "2021-06-17T04:49:09.470934Z"
    },
    "papermill": {
     "duration": 0.044438,
     "end_time": "2021-06-17T04:55:48.087787",
     "exception": false,
     "start_time": "2021-06-17T04:55:48.043349",
     "status": "completed"
    },
    "tags": []
   },
   "outputs": [
    {
     "data": {
      "text/plain": [
       "school             0\n",
       "school_setting     0\n",
       "school_type        0\n",
       "classroom          0\n",
       "teaching_method    0\n",
       "n_student          0\n",
       "gender             0\n",
       "lunch              0\n",
       "pretest            0\n",
       "posttest           0\n",
       "dtype: int64"
      ]
     },
     "execution_count": 4,
     "metadata": {},
     "output_type": "execute_result"
    }
   ],
   "source": [
    "data.isnull().sum()"
   ]
  },
  {
   "cell_type": "markdown",
   "id": "packed-guarantee",
   "metadata": {
    "papermill": {
     "duration": 0.029837,
     "end_time": "2021-06-17T04:55:48.147709",
     "exception": false,
     "start_time": "2021-06-17T04:55:48.117872",
     "status": "completed"
    },
    "tags": []
   },
   "source": [
    "There are no missing values in any attributes"
   ]
  },
  {
   "cell_type": "code",
   "execution_count": 5,
   "id": "mighty-english",
   "metadata": {
    "execution": {
     "iopub.execute_input": "2021-06-17T04:55:48.212630Z",
     "iopub.status.busy": "2021-06-17T04:55:48.211984Z",
     "iopub.status.idle": "2021-06-17T04:55:48.220855Z",
     "shell.execute_reply": "2021-06-17T04:55:48.221408Z",
     "shell.execute_reply.started": "2021-06-17T04:49:09.503644Z"
    },
    "papermill": {
     "duration": 0.043705,
     "end_time": "2021-06-17T04:55:48.221652",
     "exception": false,
     "start_time": "2021-06-17T04:55:48.177947",
     "status": "completed"
    },
    "tags": []
   },
   "outputs": [],
   "source": [
    "#numerical attributes\n",
    "numeric_columns=data.select_dtypes(include=['number']).columns.tolist()\n",
    "\n",
    "#categorical attributes\n",
    "cat_columns=data.select_dtypes(exclude=['number','bool_']).columns.tolist()"
   ]
  },
  {
   "cell_type": "code",
   "execution_count": 6,
   "id": "accessible-scheme",
   "metadata": {
    "execution": {
     "iopub.execute_input": "2021-06-17T04:55:48.285224Z",
     "iopub.status.busy": "2021-06-17T04:55:48.284517Z",
     "iopub.status.idle": "2021-06-17T04:55:48.289321Z",
     "shell.execute_reply": "2021-06-17T04:55:48.289863Z",
     "shell.execute_reply.started": "2021-06-17T04:49:09.514733Z"
    },
    "papermill": {
     "duration": 0.038384,
     "end_time": "2021-06-17T04:55:48.290077",
     "exception": false,
     "start_time": "2021-06-17T04:55:48.251693",
     "status": "completed"
    },
    "tags": []
   },
   "outputs": [],
   "source": [
    "def label_function(val):\n",
    "    return f'{val / 100 * len(data):.0f}\\n{val:.0f}%'"
   ]
  },
  {
   "cell_type": "markdown",
   "id": "blank-poultry",
   "metadata": {
    "papermill": {
     "duration": 0.029792,
     "end_time": "2021-06-17T04:55:48.349954",
     "exception": false,
     "start_time": "2021-06-17T04:55:48.320162",
     "status": "completed"
    },
    "tags": []
   },
   "source": [
    "<h1 style=\"background-color:MediumSeaGreen;font-family:newtimeroman;font-size:500%;text-align:center;border-radius: 15px 50px;padding: 5px 5px 5px 5px\">\n",
    "    <b>Visuzlisation</b></h1>"
   ]
  },
  {
   "cell_type": "code",
   "execution_count": 7,
   "id": "loved-pregnancy",
   "metadata": {
    "execution": {
     "iopub.execute_input": "2021-06-17T04:55:48.413673Z",
     "iopub.status.busy": "2021-06-17T04:55:48.412989Z",
     "iopub.status.idle": "2021-06-17T04:55:49.077476Z",
     "shell.execute_reply": "2021-06-17T04:55:49.077990Z",
     "shell.execute_reply.started": "2021-06-17T04:49:09.532214Z"
    },
    "papermill": {
     "duration": 0.698366,
     "end_time": "2021-06-17T04:55:49.078211",
     "exception": false,
     "start_time": "2021-06-17T04:55:48.379845",
     "status": "completed"
    },
    "tags": []
   },
   "outputs": [
    {
     "data": {
      "image/png": "[encoded data removed]",
      "text/plain": [
       "<Figure size 432x288 with 1 Axes>"
      ]
     },
     "metadata": {},
     "output_type": "display_data"
    },
    {
     "data": {
      "image/png": "[encoded data removed]",
      "text/plain": [
       "<Figure size 432x288 with 1 Axes>"
      ]
     },
     "metadata": {},
     "output_type": "display_data"
    },
    {
     "data": {
      "image/png": "[encoded data removed]",
      "text/plain": [
       "<Figure size 432x288 with 1 Axes>"
      ]
     },
     "metadata": {},
     "output_type": "display_data"
    },
    {
     "data": {
      "image/png": "[encoded data removed]",
      "text/plain": [
       "<Figure size 432x288 with 1 Axes>"
      ]
     },
     "metadata": {},
     "output_type": "display_data"
    },
    {
     "data": {
      "image/png": "[encoded data removed]",
      "text/plain": [
       "<Figure size 432x288 with 1 Axes>"
      ]
     },
     "metadata": {},
     "output_type": "display_data"
    }
   ],
   "source": [
    "colors=['tomato', 'gold', 'skyblue','violet', 'lime']\n",
    "for col in cat_columns:\n",
    "    col_no=len(pd.unique(data[col]))\n",
    "    if col_no<4:\n",
    "        color=(random.sample(colors, col_no))\n",
    "        data.groupby(col).size().plot(kind='pie', autopct=label_function, textprops={'fontsize': 15},colors=color)\n",
    "        #plt.xlabel('Per country', size=22)\n",
    "        #plt.ylabel('Per gender', size=22)\n",
    "        plt.ylabel(\"\")\n",
    "        plt.tight_layout()\n",
    "        plt.title(\"Distibution of {}\".format(col),size=22)\n",
    "        plt.show()"
   ]
  },
  {
   "cell_type": "code",
   "execution_count": 8,
   "id": "inside-township",
   "metadata": {
    "execution": {
     "iopub.execute_input": "2021-06-17T04:55:49.154254Z",
     "iopub.status.busy": "2021-06-17T04:55:49.153256Z",
     "iopub.status.idle": "2021-06-17T04:55:49.353461Z",
     "shell.execute_reply": "2021-06-17T04:55:49.352871Z",
     "shell.execute_reply.started": "2021-06-17T04:49:10.307939Z"
    },
    "papermill": {
     "duration": 0.238691,
     "end_time": "2021-06-17T04:55:49.353620",
     "exception": false,
     "start_time": "2021-06-17T04:55:49.114929",
     "status": "completed"
    },
    "tags": []
   },
   "outputs": [
    {
     "data": {
      "text/html": [
       "<div>\n",
       "<style scoped>\n",
       "    .dataframe tbody tr th:only-of-type {\n",
       "        vertical-align: middle;\n",
       "    }\n",
       "\n",
       "    .dataframe tbody tr th {\n",
       "        vertical-align: top;\n",
       "    }\n",
       "\n",
       "    .dataframe thead th {\n",
       "        text-align: right;\n",
       "    }\n",
       "</style>\n",
       "<table border=\"1\" class=\"dataframe\">\n",
       "  <thead>\n",
       "    <tr style=\"text-align: right;\">\n",
       "      <th>school_type</th>\n",
       "      <th>Non-public</th>\n",
       "      <th>Public</th>\n",
       "    </tr>\n",
       "    <tr>\n",
       "      <th>school_setting</th>\n",
       "      <th></th>\n",
       "      <th></th>\n",
       "    </tr>\n",
       "  </thead>\n",
       "  <tbody>\n",
       "    <tr>\n",
       "      <th>Rural</th>\n",
       "      <td>0.190196</td>\n",
       "      <td>0.809804</td>\n",
       "    </tr>\n",
       "    <tr>\n",
       "      <th>Suburban</th>\n",
       "      <td>0.269177</td>\n",
       "      <td>0.730823</td>\n",
       "    </tr>\n",
       "    <tr>\n",
       "      <th>Urban</th>\n",
       "      <td>0.288079</td>\n",
       "      <td>0.711921</td>\n",
       "    </tr>\n",
       "  </tbody>\n",
       "</table>\n",
       "</div>"
      ],
      "text/plain": [
       "school_type     Non-public    Public\n",
       "school_setting                      \n",
       "Rural             0.190196  0.809804\n",
       "Suburban          0.269177  0.730823\n",
       "Urban             0.288079  0.711921"
      ]
     },
     "execution_count": 8,
     "metadata": {},
     "output_type": "execute_result"
    }
   ],
   "source": [
    "pd.crosstab(data['school_setting'],data['school_type'], normalize='index')"
   ]
  },
  {
   "cell_type": "code",
   "execution_count": 9,
   "id": "enormous-anger",
   "metadata": {
    "execution": {
     "iopub.execute_input": "2021-06-17T04:55:49.433178Z",
     "iopub.status.busy": "2021-06-17T04:55:49.432432Z",
     "iopub.status.idle": "2021-06-17T04:55:49.453902Z",
     "shell.execute_reply": "2021-06-17T04:55:49.453249Z",
     "shell.execute_reply.started": "2021-06-17T04:49:10.337839Z"
    },
    "papermill": {
     "duration": 0.06515,
     "end_time": "2021-06-17T04:55:49.454072",
     "exception": false,
     "start_time": "2021-06-17T04:55:49.388922",
     "status": "completed"
    },
    "tags": []
   },
   "outputs": [
    {
     "data": {
      "text/html": [
       "<div>\n",
       "<style scoped>\n",
       "    .dataframe tbody tr th:only-of-type {\n",
       "        vertical-align: middle;\n",
       "    }\n",
       "\n",
       "    .dataframe tbody tr th {\n",
       "        vertical-align: top;\n",
       "    }\n",
       "\n",
       "    .dataframe thead th {\n",
       "        text-align: right;\n",
       "    }\n",
       "</style>\n",
       "<table border=\"1\" class=\"dataframe\">\n",
       "  <thead>\n",
       "    <tr style=\"text-align: right;\">\n",
       "      <th>lunch</th>\n",
       "      <th>Does not qualify</th>\n",
       "      <th>Qualifies for reduced/free lunch</th>\n",
       "    </tr>\n",
       "    <tr>\n",
       "      <th>school_type</th>\n",
       "      <th></th>\n",
       "      <th></th>\n",
       "    </tr>\n",
       "  </thead>\n",
       "  <tbody>\n",
       "    <tr>\n",
       "      <th>Non-public</th>\n",
       "      <td>0.713249</td>\n",
       "      <td>0.286751</td>\n",
       "    </tr>\n",
       "    <tr>\n",
       "      <th>Public</th>\n",
       "      <td>0.519595</td>\n",
       "      <td>0.480405</td>\n",
       "    </tr>\n",
       "  </tbody>\n",
       "</table>\n",
       "</div>"
      ],
      "text/plain": [
       "lunch        Does not qualify  Qualifies for reduced/free lunch\n",
       "school_type                                                    \n",
       "Non-public           0.713249                          0.286751\n",
       "Public               0.519595                          0.480405"
      ]
     },
     "execution_count": 9,
     "metadata": {},
     "output_type": "execute_result"
    }
   ],
   "source": [
    "pd.crosstab(data['school_type'],data['lunch'], normalize='index')"
   ]
  },
  {
   "cell_type": "markdown",
   "id": "numerical-setup",
   "metadata": {
    "papermill": {
     "duration": 0.035483,
     "end_time": "2021-06-17T04:55:49.525621",
     "exception": false,
     "start_time": "2021-06-17T04:55:49.490138",
     "status": "completed"
    },
    "tags": []
   },
   "source": [
    "The above table shows,Most of the students from non-public school are not qualified for reduced/free lunch."
   ]
  },
  {
   "cell_type": "code",
   "execution_count": 10,
   "id": "pleasant-welcome",
   "metadata": {
    "execution": {
     "iopub.execute_input": "2021-06-17T04:55:49.608819Z",
     "iopub.status.busy": "2021-06-17T04:55:49.608090Z",
     "iopub.status.idle": "2021-06-17T04:55:49.626535Z",
     "shell.execute_reply": "2021-06-17T04:55:49.625863Z",
     "shell.execute_reply.started": "2021-06-17T04:49:10.360439Z"
    },
    "papermill": {
     "duration": 0.064917,
     "end_time": "2021-06-17T04:55:49.626722",
     "exception": false,
     "start_time": "2021-06-17T04:55:49.561805",
     "status": "completed"
    },
    "tags": []
   },
   "outputs": [
    {
     "data": {
      "text/html": [
       "<div>\n",
       "<style scoped>\n",
       "    .dataframe tbody tr th:only-of-type {\n",
       "        vertical-align: middle;\n",
       "    }\n",
       "\n",
       "    .dataframe tbody tr th {\n",
       "        vertical-align: top;\n",
       "    }\n",
       "\n",
       "    .dataframe thead th {\n",
       "        text-align: right;\n",
       "    }\n",
       "</style>\n",
       "<table border=\"1\" class=\"dataframe\">\n",
       "  <thead>\n",
       "    <tr style=\"text-align: right;\">\n",
       "      <th>lunch</th>\n",
       "      <th>Does not qualify</th>\n",
       "      <th>Qualifies for reduced/free lunch</th>\n",
       "    </tr>\n",
       "    <tr>\n",
       "      <th>school_type</th>\n",
       "      <th></th>\n",
       "      <th></th>\n",
       "    </tr>\n",
       "  </thead>\n",
       "  <tbody>\n",
       "    <tr>\n",
       "      <th>Non-public</th>\n",
       "      <td>79.399491</td>\n",
       "      <td>67.411392</td>\n",
       "    </tr>\n",
       "    <tr>\n",
       "      <th>Public</th>\n",
       "      <td>71.973236</td>\n",
       "      <td>55.410526</td>\n",
       "    </tr>\n",
       "  </tbody>\n",
       "</table>\n",
       "</div>"
      ],
      "text/plain": [
       "lunch        Does not qualify  Qualifies for reduced/free lunch\n",
       "school_type                                                    \n",
       "Non-public          79.399491                         67.411392\n",
       "Public              71.973236                         55.410526"
      ]
     },
     "execution_count": 10,
     "metadata": {},
     "output_type": "execute_result"
    }
   ],
   "source": [
    "pd.pivot_table(data, values='posttest', index=['school_type'],columns=['lunch'], aggfunc=np.mean)"
   ]
  },
  {
   "cell_type": "markdown",
   "id": "mysterious-greenhouse",
   "metadata": {
    "papermill": {
     "duration": 0.035513,
     "end_time": "2021-06-17T04:55:49.698937",
     "exception": false,
     "start_time": "2021-06-17T04:55:49.663424",
     "status": "completed"
    },
    "tags": []
   },
   "source": [
    "\n",
    "From the above table it is clear that the highest score is from the private school that doesnot qualify for the reduced/free lunch"
   ]
  },
  {
   "cell_type": "code",
   "execution_count": 11,
   "id": "supposed-production",
   "metadata": {
    "execution": {
     "iopub.execute_input": "2021-06-17T04:55:49.818665Z",
     "iopub.status.busy": "2021-06-17T04:55:49.795911Z",
     "iopub.status.idle": "2021-06-17T04:55:50.298189Z",
     "shell.execute_reply": "2021-06-17T04:55:50.297567Z",
     "shell.execute_reply.started": "2021-06-17T04:49:10.381010Z"
    },
    "papermill": {
     "duration": 0.563275,
     "end_time": "2021-06-17T04:55:50.298368",
     "exception": false,
     "start_time": "2021-06-17T04:55:49.735093",
     "status": "completed"
    },
    "tags": []
   },
   "outputs": [
    {
     "data": {
      "image/png": "[encoded data removed]",
      "text/plain": [
       "<Figure size 1080x576 with 3 Axes>"
      ]
     },
     "metadata": {
      "needs_background": "light"
     },
     "output_type": "display_data"
    }
   ],
   "source": [
    "f, axes = plt.subplots(1, 3,figsize=(15,8))\n",
    "sns.boxplot(data=data, x='lunch', y='posttest', ax=axes[0])\n",
    "#plt.xticks(fontsize=14)\n",
    "sns.boxplot(data=data, x='school_setting', y='posttest', ax=axes[1])\n",
    "#plt.xticks(fontsize=14)\n",
    "sns.boxplot(data=data, x='school_type', y='posttest', ax=axes[2])\n",
    "plt.tight_layout()\n",
    "#plt.xticks(fontsize=14)\n",
    "plt.show()"
   ]
  },
  {
   "cell_type": "code",
   "execution_count": 12,
   "id": "earlier-classification",
   "metadata": {
    "execution": {
     "iopub.execute_input": "2021-06-17T04:55:50.378946Z",
     "iopub.status.busy": "2021-06-17T04:55:50.378151Z",
     "iopub.status.idle": "2021-06-17T04:55:50.678233Z",
     "shell.execute_reply": "2021-06-17T04:55:50.677548Z",
     "shell.execute_reply.started": "2021-06-17T04:49:10.919520Z"
    },
    "papermill": {
     "duration": 0.343185,
     "end_time": "2021-06-17T04:55:50.678392",
     "exception": false,
     "start_time": "2021-06-17T04:55:50.335207",
     "status": "completed"
    },
    "tags": []
   },
   "outputs": [
    {
     "data": {
      "text/plain": [
       "<AxesSubplot:xlabel='teaching_method', ylabel='posttest'>"
      ]
     },
     "execution_count": 12,
     "metadata": {},
     "output_type": "execute_result"
    },
    {
     "data": {
      "image/png": "[encoded data removed]",
      "text/plain": [
       "<Figure size 1080x576 with 2 Axes>"
      ]
     },
     "metadata": {
      "needs_background": "light"
     },
     "output_type": "display_data"
    }
   ],
   "source": [
    "f, axes = plt.subplots(1, 2,figsize=(15,8))\n",
    "sns.boxplot(data=data, x='gender', y='posttest', ax=axes[0])\n",
    "sns.boxplot(data=data, x='teaching_method', y='posttest', ax=axes[1])"
   ]
  },
  {
   "cell_type": "code",
   "execution_count": 13,
   "id": "agreed-seating",
   "metadata": {
    "execution": {
     "iopub.execute_input": "2021-06-17T04:55:50.764611Z",
     "iopub.status.busy": "2021-06-17T04:55:50.763377Z",
     "iopub.status.idle": "2021-06-17T04:55:51.492138Z",
     "shell.execute_reply": "2021-06-17T04:55:51.491550Z",
     "shell.execute_reply.started": "2021-06-17T04:49:11.210179Z"
    },
    "papermill": {
     "duration": 0.776136,
     "end_time": "2021-06-17T04:55:51.492295",
     "exception": false,
     "start_time": "2021-06-17T04:55:50.716159",
     "status": "completed"
    },
    "tags": []
   },
   "outputs": [
    {
     "data": {
      "image/png": "[encoded data removed]",
      "text/plain": [
       "<Figure size 1080x576 with 1 Axes>"
      ]
     },
     "metadata": {
      "needs_background": "light"
     },
     "output_type": "display_data"
    }
   ],
   "source": [
    "plt.figure(figsize=(15,8))\n",
    "sns.boxplot(data=data, x='n_student', y='posttest',hue='school_type')\n",
    "plt.show()"
   ]
  },
  {
   "cell_type": "code",
   "execution_count": 14,
   "id": "popular-technology",
   "metadata": {
    "execution": {
     "iopub.execute_input": "2021-06-17T04:55:51.606241Z",
     "iopub.status.busy": "2021-06-17T04:55:51.597102Z",
     "iopub.status.idle": "2021-06-17T04:55:51.740918Z",
     "shell.execute_reply": "2021-06-17T04:55:51.740334Z",
     "shell.execute_reply.started": "2021-06-17T04:49:12.398056Z"
    },
    "papermill": {
     "duration": 0.209812,
     "end_time": "2021-06-17T04:55:51.741075",
     "exception": false,
     "start_time": "2021-06-17T04:55:51.531263",
     "status": "completed"
    },
    "tags": []
   },
   "outputs": [
    {
     "data": {
      "image/png": "[encoded data removed]",
      "text/plain": [
       "<Figure size 1080x360 with 1 Axes>"
      ]
     },
     "metadata": {
      "needs_background": "light"
     },
     "output_type": "display_data"
    }
   ],
   "source": [
    "new_data=[]\n",
    "for col in numeric_columns:\n",
    "    if col=='n_student':\n",
    "        continue\n",
    "    new_data.append(data[col].tolist())\n",
    "\n",
    "fig = plt.figure(figsize =(15,5))\n",
    "ax = fig.add_subplot(111)\n",
    "\n",
    "# Creating axes instance\n",
    "bp = ax.boxplot(new_data, patch_artist = True,\n",
    "                notch ='True', vert = 0)\n",
    "\n",
    "colors = ['#0000FF', '#00FF00']\n",
    "\n",
    "for patch, color in zip(bp['boxes'], colors):\n",
    "    patch.set_facecolor(color)\n",
    "\n",
    "# changing color and linewidth of\n",
    "# whiskers\n",
    "for whisker in bp['whiskers']:\n",
    "    whisker.set(color ='#8B008B',\n",
    "                linewidth = 1.5,\n",
    "                linestyle =\":\")\n",
    "\n",
    "# changing color and linewidth of\n",
    "# caps\n",
    "for cap in bp['caps']:\n",
    "    cap.set(color ='#8B008B',\n",
    "            linewidth = 2)\n",
    "\n",
    "# changing color and linewidth of\n",
    "# medians\n",
    "for median in bp['medians']:\n",
    "    median.set(color ='red',\n",
    "               linewidth = 3)\n",
    "\n",
    "# changing style of fliers\n",
    "for flier in bp['fliers']:\n",
    "    flier.set(marker ='D',\n",
    "              color ='#e7298a',\n",
    "              alpha = 0.5)\n",
    "\n",
    "# x-axis labels\n",
    "ax.set_yticklabels(['pretest','posttest'])\n",
    "\n",
    "# Adding title\n",
    "plt.title(\"Customized box plot\")\n",
    "\n",
    "# Removing top axes and right axes\n",
    "# ticks\n",
    "ax.get_xaxis().tick_bottom()\n",
    "ax.get_yaxis().tick_left()\n",
    "\n",
    "# show plot\n",
    "plt.show(bp)"
   ]
  },
  {
   "cell_type": "markdown",
   "id": "specific-suggestion",
   "metadata": {
    "papermill": {
     "duration": 0.039744,
     "end_time": "2021-06-17T04:55:51.820624",
     "exception": false,
     "start_time": "2021-06-17T04:55:51.780880",
     "status": "completed"
    },
    "tags": []
   },
   "source": [
    "<h1 style=\"background-color:MediumSeaGreen;font-family:newtimeroman;font-size:500%;text-align:center;border-radius: 15px 50px;padding: 5px 5px 5px 5px\">\n",
    "    <b>Transforming Categorical to Numerical values</b></h1>"
   ]
  },
  {
   "cell_type": "code",
   "execution_count": 15,
   "id": "australian-distribution",
   "metadata": {
    "execution": {
     "iopub.execute_input": "2021-06-17T04:55:51.918151Z",
     "iopub.status.busy": "2021-06-17T04:55:51.917376Z",
     "iopub.status.idle": "2021-06-17T04:55:51.920886Z",
     "shell.execute_reply": "2021-06-17T04:55:51.920269Z",
     "shell.execute_reply.started": "2021-06-17T04:49:12.570146Z"
    },
    "papermill": {
     "duration": 0.059666,
     "end_time": "2021-06-17T04:55:51.921063",
     "exception": false,
     "start_time": "2021-06-17T04:55:51.861397",
     "status": "completed"
    },
    "tags": []
   },
   "outputs": [],
   "source": [
    "label_encoder = LabelEncoder()\n",
    "for col in cat_columns:\n",
    "    data[col]=label_encoder.fit_transform(data[col])\n"
   ]
  },
  {
   "cell_type": "code",
   "execution_count": 16,
   "id": "combined-perry",
   "metadata": {
    "execution": {
     "iopub.execute_input": "2021-06-17T04:55:52.028350Z",
     "iopub.status.busy": "2021-06-17T04:55:52.027632Z",
     "iopub.status.idle": "2021-06-17T04:55:52.032315Z",
     "shell.execute_reply": "2021-06-17T04:55:52.032865Z",
     "shell.execute_reply.started": "2021-06-17T04:49:12.587072Z"
    },
    "papermill": {
     "duration": 0.072027,
     "end_time": "2021-06-17T04:55:52.033069",
     "exception": false,
     "start_time": "2021-06-17T04:55:51.961042",
     "status": "completed"
    },
    "tags": []
   },
   "outputs": [
    {
     "data": {
      "text/html": [
       "<div>\n",
       "<style scoped>\n",
       "    .dataframe tbody tr th:only-of-type {\n",
       "        vertical-align: middle;\n",
       "    }\n",
       "\n",
       "    .dataframe tbody tr th {\n",
       "        vertical-align: top;\n",
       "    }\n",
       "\n",
       "    .dataframe thead th {\n",
       "        text-align: right;\n",
       "    }\n",
       "</style>\n",
       "<table border=\"1\" class=\"dataframe\">\n",
       "  <thead>\n",
       "    <tr style=\"text-align: right;\">\n",
       "      <th></th>\n",
       "      <th>school</th>\n",
       "      <th>school_setting</th>\n",
       "      <th>school_type</th>\n",
       "      <th>classroom</th>\n",
       "      <th>teaching_method</th>\n",
       "      <th>n_student</th>\n",
       "      <th>gender</th>\n",
       "      <th>lunch</th>\n",
       "      <th>pretest</th>\n",
       "      <th>posttest</th>\n",
       "    </tr>\n",
       "  </thead>\n",
       "  <tbody>\n",
       "    <tr>\n",
       "      <th>0</th>\n",
       "      <td>0</td>\n",
       "      <td>2</td>\n",
       "      <td>0</td>\n",
       "      <td>22</td>\n",
       "      <td>1</td>\n",
       "      <td>20.0</td>\n",
       "      <td>0</td>\n",
       "      <td>0</td>\n",
       "      <td>62.0</td>\n",
       "      <td>72.0</td>\n",
       "    </tr>\n",
       "    <tr>\n",
       "      <th>1</th>\n",
       "      <td>0</td>\n",
       "      <td>2</td>\n",
       "      <td>0</td>\n",
       "      <td>22</td>\n",
       "      <td>1</td>\n",
       "      <td>20.0</td>\n",
       "      <td>0</td>\n",
       "      <td>0</td>\n",
       "      <td>66.0</td>\n",
       "      <td>79.0</td>\n",
       "    </tr>\n",
       "    <tr>\n",
       "      <th>2</th>\n",
       "      <td>0</td>\n",
       "      <td>2</td>\n",
       "      <td>0</td>\n",
       "      <td>22</td>\n",
       "      <td>1</td>\n",
       "      <td>20.0</td>\n",
       "      <td>1</td>\n",
       "      <td>0</td>\n",
       "      <td>64.0</td>\n",
       "      <td>76.0</td>\n",
       "    </tr>\n",
       "    <tr>\n",
       "      <th>3</th>\n",
       "      <td>0</td>\n",
       "      <td>2</td>\n",
       "      <td>0</td>\n",
       "      <td>22</td>\n",
       "      <td>1</td>\n",
       "      <td>20.0</td>\n",
       "      <td>0</td>\n",
       "      <td>0</td>\n",
       "      <td>61.0</td>\n",
       "      <td>77.0</td>\n",
       "    </tr>\n",
       "    <tr>\n",
       "      <th>4</th>\n",
       "      <td>0</td>\n",
       "      <td>2</td>\n",
       "      <td>0</td>\n",
       "      <td>22</td>\n",
       "      <td>1</td>\n",
       "      <td>20.0</td>\n",
       "      <td>1</td>\n",
       "      <td>0</td>\n",
       "      <td>64.0</td>\n",
       "      <td>76.0</td>\n",
       "    </tr>\n",
       "    <tr>\n",
       "      <th>...</th>\n",
       "      <td>...</td>\n",
       "      <td>...</td>\n",
       "      <td>...</td>\n",
       "      <td>...</td>\n",
       "      <td>...</td>\n",
       "      <td>...</td>\n",
       "      <td>...</td>\n",
       "      <td>...</td>\n",
       "      <td>...</td>\n",
       "      <td>...</td>\n",
       "    </tr>\n",
       "    <tr>\n",
       "      <th>2128</th>\n",
       "      <td>22</td>\n",
       "      <td>2</td>\n",
       "      <td>1</td>\n",
       "      <td>94</td>\n",
       "      <td>1</td>\n",
       "      <td>30.0</td>\n",
       "      <td>0</td>\n",
       "      <td>0</td>\n",
       "      <td>39.0</td>\n",
       "      <td>55.0</td>\n",
       "    </tr>\n",
       "    <tr>\n",
       "      <th>2129</th>\n",
       "      <td>22</td>\n",
       "      <td>2</td>\n",
       "      <td>1</td>\n",
       "      <td>94</td>\n",
       "      <td>1</td>\n",
       "      <td>30.0</td>\n",
       "      <td>0</td>\n",
       "      <td>1</td>\n",
       "      <td>38.0</td>\n",
       "      <td>46.0</td>\n",
       "    </tr>\n",
       "    <tr>\n",
       "      <th>2130</th>\n",
       "      <td>22</td>\n",
       "      <td>2</td>\n",
       "      <td>1</td>\n",
       "      <td>94</td>\n",
       "      <td>1</td>\n",
       "      <td>30.0</td>\n",
       "      <td>0</td>\n",
       "      <td>1</td>\n",
       "      <td>45.0</td>\n",
       "      <td>51.0</td>\n",
       "    </tr>\n",
       "    <tr>\n",
       "      <th>2131</th>\n",
       "      <td>22</td>\n",
       "      <td>2</td>\n",
       "      <td>1</td>\n",
       "      <td>94</td>\n",
       "      <td>1</td>\n",
       "      <td>30.0</td>\n",
       "      <td>1</td>\n",
       "      <td>1</td>\n",
       "      <td>46.0</td>\n",
       "      <td>53.0</td>\n",
       "    </tr>\n",
       "    <tr>\n",
       "      <th>2132</th>\n",
       "      <td>22</td>\n",
       "      <td>2</td>\n",
       "      <td>1</td>\n",
       "      <td>94</td>\n",
       "      <td>1</td>\n",
       "      <td>30.0</td>\n",
       "      <td>1</td>\n",
       "      <td>1</td>\n",
       "      <td>41.0</td>\n",
       "      <td>48.0</td>\n",
       "    </tr>\n",
       "  </tbody>\n",
       "</table>\n",
       "<p>2133 rows × 10 columns</p>\n",
       "</div>"
      ],
      "text/plain": [
       "      school  school_setting  school_type  classroom  teaching_method  \\\n",
       "0          0               2            0         22                1   \n",
       "1          0               2            0         22                1   \n",
       "2          0               2            0         22                1   \n",
       "3          0               2            0         22                1   \n",
       "4          0               2            0         22                1   \n",
       "...      ...             ...          ...        ...              ...   \n",
       "2128      22               2            1         94                1   \n",
       "2129      22               2            1         94                1   \n",
       "2130      22               2            1         94                1   \n",
       "2131      22               2            1         94                1   \n",
       "2132      22               2            1         94                1   \n",
       "\n",
       "      n_student  gender  lunch  pretest  posttest  \n",
       "0          20.0       0      0     62.0      72.0  \n",
       "1          20.0       0      0     66.0      79.0  \n",
       "2          20.0       1      0     64.0      76.0  \n",
       "3          20.0       0      0     61.0      77.0  \n",
       "4          20.0       1      0     64.0      76.0  \n",
       "...         ...     ...    ...      ...       ...  \n",
       "2128       30.0       0      0     39.0      55.0  \n",
       "2129       30.0       0      1     38.0      46.0  \n",
       "2130       30.0       0      1     45.0      51.0  \n",
       "2131       30.0       1      1     46.0      53.0  \n",
       "2132       30.0       1      1     41.0      48.0  \n",
       "\n",
       "[2133 rows x 10 columns]"
      ]
     },
     "execution_count": 16,
     "metadata": {},
     "output_type": "execute_result"
    }
   ],
   "source": [
    "data"
   ]
  },
  {
   "cell_type": "markdown",
   "id": "decreased-directory",
   "metadata": {
    "papermill": {
     "duration": 0.040631,
     "end_time": "2021-06-17T04:55:52.114682",
     "exception": false,
     "start_time": "2021-06-17T04:55:52.074051",
     "status": "completed"
    },
    "tags": []
   },
   "source": [
    "<h1 style=\"background-color:MediumSeaGreen;font-family:newtimeroman;font-size:500%;text-align:center;border-radius: 15px 50px;padding: 5px 5px 5px 5px\">\n",
    "    <b>Normalizing Numerical values</b></h1>"
   ]
  },
  {
   "cell_type": "code",
   "execution_count": 17,
   "id": "listed-dutch",
   "metadata": {
    "execution": {
     "iopub.execute_input": "2021-06-17T04:55:52.204119Z",
     "iopub.status.busy": "2021-06-17T04:55:52.203390Z",
     "iopub.status.idle": "2021-06-17T04:55:52.205358Z",
     "shell.execute_reply": "2021-06-17T04:55:52.205809Z",
     "shell.execute_reply.started": "2021-06-17T04:49:12.618781Z"
    },
    "papermill": {
     "duration": 0.050652,
     "end_time": "2021-06-17T04:55:52.206013",
     "exception": false,
     "start_time": "2021-06-17T04:55:52.155361",
     "status": "completed"
    },
    "tags": []
   },
   "outputs": [],
   "source": [
    "for col in numeric_columns:\n",
    "    data[col]= MinMaxScaler().fit_transform(np.array(data[col]).reshape(-1,1))"
   ]
  },
  {
   "cell_type": "code",
   "execution_count": 18,
   "id": "animal-hudson",
   "metadata": {
    "execution": {
     "iopub.execute_input": "2021-06-17T04:55:52.290327Z",
     "iopub.status.busy": "2021-06-17T04:55:52.289628Z",
     "iopub.status.idle": "2021-06-17T04:55:52.305425Z",
     "shell.execute_reply": "2021-06-17T04:55:52.305978Z",
     "shell.execute_reply.started": "2021-06-17T04:49:12.627574Z"
    },
    "papermill": {
     "duration": 0.059726,
     "end_time": "2021-06-17T04:55:52.306185",
     "exception": false,
     "start_time": "2021-06-17T04:55:52.246459",
     "status": "completed"
    },
    "tags": []
   },
   "outputs": [
    {
     "data": {
      "text/html": [
       "<div>\n",
       "<style scoped>\n",
       "    .dataframe tbody tr th:only-of-type {\n",
       "        vertical-align: middle;\n",
       "    }\n",
       "\n",
       "    .dataframe tbody tr th {\n",
       "        vertical-align: top;\n",
       "    }\n",
       "\n",
       "    .dataframe thead th {\n",
       "        text-align: right;\n",
       "    }\n",
       "</style>\n",
       "<table border=\"1\" class=\"dataframe\">\n",
       "  <thead>\n",
       "    <tr style=\"text-align: right;\">\n",
       "      <th></th>\n",
       "      <th>school</th>\n",
       "      <th>school_setting</th>\n",
       "      <th>school_type</th>\n",
       "      <th>classroom</th>\n",
       "      <th>teaching_method</th>\n",
       "      <th>n_student</th>\n",
       "      <th>gender</th>\n",
       "      <th>lunch</th>\n",
       "      <th>pretest</th>\n",
       "    </tr>\n",
       "  </thead>\n",
       "  <tbody>\n",
       "    <tr>\n",
       "      <th>0</th>\n",
       "      <td>0</td>\n",
       "      <td>2</td>\n",
       "      <td>0</td>\n",
       "      <td>22</td>\n",
       "      <td>1</td>\n",
       "      <td>0.352941</td>\n",
       "      <td>0</td>\n",
       "      <td>0</td>\n",
       "      <td>0.563380</td>\n",
       "    </tr>\n",
       "    <tr>\n",
       "      <th>1</th>\n",
       "      <td>0</td>\n",
       "      <td>2</td>\n",
       "      <td>0</td>\n",
       "      <td>22</td>\n",
       "      <td>1</td>\n",
       "      <td>0.352941</td>\n",
       "      <td>0</td>\n",
       "      <td>0</td>\n",
       "      <td>0.619718</td>\n",
       "    </tr>\n",
       "    <tr>\n",
       "      <th>2</th>\n",
       "      <td>0</td>\n",
       "      <td>2</td>\n",
       "      <td>0</td>\n",
       "      <td>22</td>\n",
       "      <td>1</td>\n",
       "      <td>0.352941</td>\n",
       "      <td>1</td>\n",
       "      <td>0</td>\n",
       "      <td>0.591549</td>\n",
       "    </tr>\n",
       "    <tr>\n",
       "      <th>3</th>\n",
       "      <td>0</td>\n",
       "      <td>2</td>\n",
       "      <td>0</td>\n",
       "      <td>22</td>\n",
       "      <td>1</td>\n",
       "      <td>0.352941</td>\n",
       "      <td>0</td>\n",
       "      <td>0</td>\n",
       "      <td>0.549296</td>\n",
       "    </tr>\n",
       "    <tr>\n",
       "      <th>4</th>\n",
       "      <td>0</td>\n",
       "      <td>2</td>\n",
       "      <td>0</td>\n",
       "      <td>22</td>\n",
       "      <td>1</td>\n",
       "      <td>0.352941</td>\n",
       "      <td>1</td>\n",
       "      <td>0</td>\n",
       "      <td>0.591549</td>\n",
       "    </tr>\n",
       "  </tbody>\n",
       "</table>\n",
       "</div>"
      ],
      "text/plain": [
       "   school  school_setting  school_type  classroom  teaching_method  n_student  \\\n",
       "0       0               2            0         22                1   0.352941   \n",
       "1       0               2            0         22                1   0.352941   \n",
       "2       0               2            0         22                1   0.352941   \n",
       "3       0               2            0         22                1   0.352941   \n",
       "4       0               2            0         22                1   0.352941   \n",
       "\n",
       "   gender  lunch   pretest  \n",
       "0       0      0  0.563380  \n",
       "1       0      0  0.619718  \n",
       "2       1      0  0.591549  \n",
       "3       0      0  0.549296  \n",
       "4       1      0  0.591549  "
      ]
     },
     "execution_count": 18,
     "metadata": {},
     "output_type": "execute_result"
    }
   ],
   "source": [
    "target=data['posttest']\n",
    "data=data.drop(['posttest'],axis=1)\n",
    "data.head(5)"
   ]
  },
  {
   "cell_type": "code",
   "execution_count": 19,
   "id": "extraordinary-fighter",
   "metadata": {
    "execution": {
     "iopub.execute_input": "2021-06-17T04:55:52.392227Z",
     "iopub.status.busy": "2021-06-17T04:55:52.391476Z",
     "iopub.status.idle": "2021-06-17T04:55:52.397561Z",
     "shell.execute_reply": "2021-06-17T04:55:52.398099Z",
     "shell.execute_reply.started": "2021-06-17T04:49:12.649587Z"
    },
    "papermill": {
     "duration": 0.051128,
     "end_time": "2021-06-17T04:55:52.398304",
     "exception": false,
     "start_time": "2021-06-17T04:55:52.347176",
     "status": "completed"
    },
    "tags": []
   },
   "outputs": [],
   "source": [
    "X_train, X_test, y_train, y_test = train_test_split(data,target, test_size = 0.25)"
   ]
  },
  {
   "cell_type": "markdown",
   "id": "assisted-event",
   "metadata": {
    "papermill": {
     "duration": 0.040267,
     "end_time": "2021-06-17T04:55:52.479702",
     "exception": false,
     "start_time": "2021-06-17T04:55:52.439435",
     "status": "completed"
    },
    "tags": []
   },
   "source": [
    "<h1 style=\"background-color:MediumSeaGreen;font-family:newtimeroman;font-size:500%;text-align:center;border-radius: 15px 50px;padding: 5px 5px 5px 5px\">\n",
    "    <b>Linear Regression</b></h1>"
   ]
  },
  {
   "cell_type": "code",
   "execution_count": 20,
   "id": "molecular-persian",
   "metadata": {
    "execution": {
     "iopub.execute_input": "2021-06-17T04:55:52.565186Z",
     "iopub.status.busy": "2021-06-17T04:55:52.564425Z",
     "iopub.status.idle": "2021-06-17T04:55:52.615866Z",
     "shell.execute_reply": "2021-06-17T04:55:52.616495Z",
     "shell.execute_reply.started": "2021-06-17T04:49:12.664660Z"
    },
    "papermill": {
     "duration": 0.096025,
     "end_time": "2021-06-17T04:55:52.616700",
     "exception": false,
     "start_time": "2021-06-17T04:55:52.520675",
     "status": "completed"
    },
    "tags": []
   },
   "outputs": [
    {
     "name": "stdout",
     "output_type": "stream",
     "text": [
      "0.9360400910628881\n"
     ]
    }
   ],
   "source": [
    "regression = LinearRegression()\n",
    "regression.fit(X_train, y_train)\n",
    "print(regression.score(X_test, y_test))\n",
    "y_pred = regression.predict(X_test)"
   ]
  },
  {
   "cell_type": "markdown",
   "id": "greater-clothing",
   "metadata": {
    "papermill": {
     "duration": 0.041835,
     "end_time": "2021-06-17T04:55:52.699552",
     "exception": false,
     "start_time": "2021-06-17T04:55:52.657717",
     "status": "completed"
    },
    "tags": []
   },
   "source": [
    "<h1 style=\"background-color:MediumSeaGreen;font-family:newtimeroman;font-size:500%;text-align:center;border-radius: 15px 50px;padding: 5px 5px 5px 5px\">\n",
    "    <b>Evaluvation</b></h1>"
   ]
  },
  {
   "cell_type": "code",
   "execution_count": 21,
   "id": "laden-newton",
   "metadata": {
    "execution": {
     "iopub.execute_input": "2021-06-17T04:55:52.789896Z",
     "iopub.status.busy": "2021-06-17T04:55:52.789072Z",
     "iopub.status.idle": "2021-06-17T04:55:52.792201Z",
     "shell.execute_reply": "2021-06-17T04:55:52.791619Z",
     "shell.execute_reply.started": "2021-06-17T04:49:12.692994Z"
    },
    "papermill": {
     "duration": 0.051273,
     "end_time": "2021-06-17T04:55:52.792368",
     "exception": false,
     "start_time": "2021-06-17T04:55:52.741095",
     "status": "completed"
    },
    "tags": []
   },
   "outputs": [],
   "source": [
    "def evaluvate(y_test,y_pred):\n",
    "    result={}\n",
    "    result['MAE'] = round(mean_absolute_error(y_test, y_pred),4)\n",
    "    result['MSE'] = round(mean_squared_error(y_test, y_pred),4)\n",
    "    result['r2'] = round(r2_score(y_test, y_pred),4)\n",
    "    return result\n",
    "    "
   ]
  },
  {
   "cell_type": "code",
   "execution_count": 22,
   "id": "comfortable-quality",
   "metadata": {
    "execution": {
     "iopub.execute_input": "2021-06-17T04:55:52.882479Z",
     "iopub.status.busy": "2021-06-17T04:55:52.881862Z",
     "iopub.status.idle": "2021-06-17T04:55:52.884365Z",
     "shell.execute_reply": "2021-06-17T04:55:52.884969Z",
     "shell.execute_reply.started": "2021-06-17T04:49:12.702839Z"
    },
    "papermill": {
     "duration": 0.050271,
     "end_time": "2021-06-17T04:55:52.885166",
     "exception": false,
     "start_time": "2021-06-17T04:55:52.834895",
     "status": "completed"
    },
    "tags": []
   },
   "outputs": [],
   "source": [
    "result=evaluvate(y_test,y_pred)\n"
   ]
  },
  {
   "cell_type": "code",
   "execution_count": 23,
   "id": "certain-stopping",
   "metadata": {
    "execution": {
     "iopub.execute_input": "2021-06-17T04:55:52.972804Z",
     "iopub.status.busy": "2021-06-17T04:55:52.972058Z",
     "iopub.status.idle": "2021-06-17T04:55:52.980623Z",
     "shell.execute_reply": "2021-06-17T04:55:52.980092Z",
     "shell.execute_reply.started": "2021-06-17T04:49:12.720012Z"
    },
    "papermill": {
     "duration": 0.054447,
     "end_time": "2021-06-17T04:55:52.980800",
     "exception": false,
     "start_time": "2021-06-17T04:55:52.926353",
     "status": "completed"
    },
    "tags": []
   },
   "outputs": [
    {
     "name": "stdout",
     "output_type": "stream",
     "text": [
      "Model                     Accuracy       \n",
      "r2                        0.936          \n",
      "MAE                       0.0401         \n",
      "MSE                       0.0026         \n"
     ]
    }
   ],
   "source": [
    "print(\"{:<25} {:<15}\".format('Model','Accuracy'))\n",
    "for k, v in sorted(result.items(), key=lambda item :item[1],reverse=True):\n",
    "    \n",
    "    print(\"{:<25} {:<15}\".format(k,v))"
   ]
  },
  {
   "cell_type": "markdown",
   "id": "lined-african",
   "metadata": {
    "papermill": {
     "duration": 0.041108,
     "end_time": "2021-06-17T04:55:53.064457",
     "exception": false,
     "start_time": "2021-06-17T04:55:53.023349",
     "status": "completed"
    },
    "tags": []
   },
   "source": [
    "<h1 style=\"background-color:MediumSeaGreen;font-family:newtimeroman;font-size:500%;text-align:center;border-radius: 15px 50px;padding: 5px 5px 5px 5px\">\n",
    "    <b>Polynomial Regression</b></h1>"
   ]
  },
  {
   "cell_type": "code",
   "execution_count": 24,
   "id": "owned-humor",
   "metadata": {
    "execution": {
     "iopub.execute_input": "2021-06-17T04:55:53.158795Z",
     "iopub.status.busy": "2021-06-17T04:55:53.158053Z",
     "iopub.status.idle": "2021-06-17T04:55:53.191845Z",
     "shell.execute_reply": "2021-06-17T04:55:53.192728Z",
     "shell.execute_reply.started": "2021-06-17T04:49:12.737405Z"
    },
    "papermill": {
     "duration": 0.087167,
     "end_time": "2021-06-17T04:55:53.193052",
     "exception": false,
     "start_time": "2021-06-17T04:55:53.105885",
     "status": "completed"
    },
    "tags": []
   },
   "outputs": [
    {
     "name": "stdout",
     "output_type": "stream",
     "text": [
      "0.9426360067261748\n"
     ]
    }
   ],
   "source": [
    " poly = PolynomialFeatures(degree = 2)\n",
    "X_poly = poly.fit_transform(data)\n",
    "X_train, X_test, y_train, y_test = train_test_split(X_poly,target, test_size = 0.25)\n",
    "poly.fit(X_train, y_train)\n",
    "poly_reg = LinearRegression()\n",
    "poly_reg.fit(X_train, y_train)\n",
    "print(poly_reg.score(X_test, y_test))\n",
    "y_pred = poly_reg.predict(X_test)"
   ]
  },
  {
   "cell_type": "markdown",
   "id": "afraid-killer",
   "metadata": {
    "papermill": {
     "duration": 0.041674,
     "end_time": "2021-06-17T04:55:53.359675",
     "exception": false,
     "start_time": "2021-06-17T04:55:53.318001",
     "status": "completed"
    },
    "tags": []
   },
   "source": [
    "<h1 style=\"background-color:MediumSeaGreen;font-family:newtimeroman;font-size:500%;text-align:center;border-radius: 15px 50px;padding: 5px 5px 5px 5px\">\n",
    "    <b>Evaluvation</b></h1>"
   ]
  },
  {
   "cell_type": "code",
   "execution_count": 25,
   "id": "critical-boost",
   "metadata": {
    "execution": {
     "iopub.execute_input": "2021-06-17T04:55:53.450413Z",
     "iopub.status.busy": "2021-06-17T04:55:53.449725Z",
     "iopub.status.idle": "2021-06-17T04:55:53.451678Z",
     "shell.execute_reply": "2021-06-17T04:55:53.452130Z",
     "shell.execute_reply.started": "2021-06-17T04:49:12.775638Z"
    },
    "papermill": {
     "duration": 0.050484,
     "end_time": "2021-06-17T04:55:53.452324",
     "exception": false,
     "start_time": "2021-06-17T04:55:53.401840",
     "status": "completed"
    },
    "tags": []
   },
   "outputs": [],
   "source": [
    "def evaluvate(y_test,y_pred):\n",
    "    result={}\n",
    "    result['MAE'] = round(mean_absolute_error(y_test, y_pred),4)\n",
    "    result['MSE'] = round(mean_squared_error(y_test, y_pred),4)\n",
    "    result['r2'] = round(r2_score(y_test, y_pred),4)\n",
    "    return result\n",
    "    "
   ]
  },
  {
   "cell_type": "code",
   "execution_count": 26,
   "id": "medical-nebraska",
   "metadata": {
    "execution": {
     "iopub.execute_input": "2021-06-17T04:55:53.540836Z",
     "iopub.status.busy": "2021-06-17T04:55:53.540157Z",
     "iopub.status.idle": "2021-06-17T04:55:53.545240Z",
     "shell.execute_reply": "2021-06-17T04:55:53.545756Z",
     "shell.execute_reply.started": "2021-06-17T04:49:12.785522Z"
    },
    "papermill": {
     "duration": 0.051702,
     "end_time": "2021-06-17T04:55:53.545959",
     "exception": false,
     "start_time": "2021-06-17T04:55:53.494257",
     "status": "completed"
    },
    "tags": []
   },
   "outputs": [],
   "source": [
    "result=evaluvate(y_test,y_pred)\n"
   ]
  },
  {
   "cell_type": "code",
   "execution_count": 27,
   "id": "friendly-brazil",
   "metadata": {
    "execution": {
     "iopub.execute_input": "2021-06-17T04:55:53.633499Z",
     "iopub.status.busy": "2021-06-17T04:55:53.632796Z",
     "iopub.status.idle": "2021-06-17T04:55:53.640332Z",
     "shell.execute_reply": "2021-06-17T04:55:53.639685Z",
     "shell.execute_reply.started": "2021-06-17T04:49:12.807721Z"
    },
    "papermill": {
     "duration": 0.052684,
     "end_time": "2021-06-17T04:55:53.640479",
     "exception": false,
     "start_time": "2021-06-17T04:55:53.587795",
     "status": "completed"
    },
    "tags": []
   },
   "outputs": [
    {
     "name": "stdout",
     "output_type": "stream",
     "text": [
      "Model                     Accuracy       \n",
      "r2                        0.9426         \n",
      "MAE                       0.039          \n",
      "MSE                       0.0024         \n"
     ]
    }
   ],
   "source": [
    "print(\"{:<25} {:<15}\".format('Model','Accuracy'))\n",
    "for k, v in sorted(result.items(), key=lambda item :item[1],reverse=True):\n",
    "    \n",
    "    print(\"{:<25} {:<15}\".format(k,v))"
   ]
  },
  {
   "cell_type": "markdown",
   "id": "latter-congo",
   "metadata": {
    "papermill": {
     "duration": 0.042105,
     "end_time": "2021-06-17T04:55:53.725564",
     "exception": false,
     "start_time": "2021-06-17T04:55:53.683459",
     "status": "completed"
    },
    "tags": []
   },
   "source": [
    "# If you find this notebook useful\n",
    "<h1 style=\"background-color:tomato;font-family:newtimeroman;font-size:500%;text-align:center;border-radius: 15px 50px;padding: 5px 5px 5px 5px\">\n",
    "    <b>feel free to upvote!</b></h1>"
   ]
  }
 ],
 "metadata": {
  "kernelspec": {
   "display_name": "Python 3",
   "language": "python",
   "name": "python3"
  },
  "language_info": {
   "codemirror_mode": {
    "name": "ipython",
    "version": 3
   },
   "file_extension": ".py",
   "mimetype": "text/x-python",
   "name": "python",
   "nbconvert_exporter": "python",
   "pygments_lexer": "ipython3",
   "version": "3.9.1"
  },
  "papermill": {
   "default_parameters": {},
   "duration": 17.941927,
   "end_time": "2021-06-17T04:55:55.681806",
   "environment_variables": {},
   "exception": null,
   "input_path": "__notebook__.ipynb",
   "output_path": "__notebook__.ipynb",
   "parameters": {},
   "start_time": "2021-06-17T04:55:37.739879",
   "version": "2.3.3"
  }
 },
 "nbformat": 4,
 "nbformat_minor": 5
}
